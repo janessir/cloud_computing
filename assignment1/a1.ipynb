{
 "cells": [
  {
   "cell_type": "code",
   "execution_count": 1,
   "metadata": {},
   "outputs": [],
   "source": [
    "import numpy as np\n",
    "import matplotlib.pyplot as plt"
   ]
  },
  {
   "cell_type": "code",
   "execution_count": null,
   "metadata": {},
   "outputs": [],
   "source": [
    "# Considering the case when number of TCP Users = 2\n",
    "\n",
    "ITERATESMAX = 100 # Maximum number of iterations \n",
    "C = 10 # Capacity of single link\n",
    "\n",
    "# def simulation(flows, alpha, beta):\n",
    "#     # \n",
    "#     for user in num_users:\n",
    "        \n",
    "#     for i in range(ITERATESMAX):\n",
    "#         # When "
   ]
  },
  {
   "cell_type": "code",
   "execution_count": 82,
   "metadata": {},
   "outputs": [],
   "source": [
    "class tuningAIMD:\n",
    "    def __init__(self, alpha=1, beta=0.5, num_users=2, initial_cwnd=1.0):\n",
    "        self.alpha = alpha\n",
    "        self.beta = beta\n",
    "        \n",
    "        self.num_users = num_users\n",
    "        self.cwnd = {f'Flow {i}': [initial_cwnd] for i in range(num_users)}\n",
    "\n",
    "    def run_simulation(self, ITERATESMAX, capacity):\n",
    "        for i in range(1, ITERATESMAX+1):\n",
    "            # print(sum(flows[-1] for flows in self.cwnd.values()))\n",
    "            # print(sum(self.cwnd[item][0] for item in self.cwnd) <= 10)\n",
    "\n",
    "            # If total packets transmitted by all the users is within link capacity\n",
    "            if sum(self.cwnd[item][-1] for item in self.cwnd) <= capacity:\n",
    "                # Additive Increase\n",
    "                print('AI:', i)\n",
    "                for flows in self.cwnd.values():\n",
    "                    new_cwnd = flows[-1] + self.alpha\n",
    "                    flows.append(new_cwnd)\n",
    "            else:\n",
    "                # Multiplicative Decrease\n",
    "                print('MD:', i)\n",
    "                for flows in self.cwnd.values():\n",
    "                    new_cwnd = flows[-1] * self.beta\n",
    "                    print('flow {i}: ', flows[-1])\n",
    "                    flows.append(new_cwnd)\n",
    "        print(self.cwnd)\n"
   ]
  },
  {
   "cell_type": "code",
   "execution_count": 84,
   "metadata": {},
   "outputs": [
    {
     "name": "stdout",
     "output_type": "stream",
     "text": [
      "AI: 1\n",
      "AI: 2\n",
      "MD: 3\n",
      "flow {i}:  6.0\n",
      "flow {i}:  6.0\n",
      "AI: 4\n",
      "AI: 5\n",
      "AI: 6\n",
      "MD: 7\n",
      "flow {i}:  6.0\n",
      "flow {i}:  6.0\n",
      "AI: 8\n",
      "AI: 9\n",
      "AI: 10\n",
      "MD: 11\n",
      "flow {i}:  6.0\n",
      "flow {i}:  6.0\n",
      "AI: 12\n",
      "AI: 13\n",
      "AI: 14\n",
      "MD: 15\n",
      "flow {i}:  6.0\n",
      "flow {i}:  6.0\n",
      "AI: 16\n",
      "AI: 17\n",
      "AI: 18\n",
      "MD: 19\n",
      "flow {i}:  6.0\n",
      "flow {i}:  6.0\n",
      "AI: 20\n",
      "AI: 21\n",
      "AI: 22\n",
      "MD: 23\n",
      "flow {i}:  6.0\n",
      "flow {i}:  6.0\n",
      "AI: 24\n",
      "AI: 25\n",
      "AI: 26\n",
      "MD: 27\n",
      "flow {i}:  6.0\n",
      "flow {i}:  6.0\n",
      "AI: 28\n",
      "AI: 29\n",
      "AI: 30\n",
      "MD: 31\n",
      "flow {i}:  6.0\n",
      "flow {i}:  6.0\n",
      "AI: 32\n",
      "AI: 33\n",
      "AI: 34\n",
      "MD: 35\n",
      "flow {i}:  6.0\n",
      "flow {i}:  6.0\n",
      "AI: 36\n",
      "AI: 37\n",
      "AI: 38\n",
      "MD: 39\n",
      "flow {i}:  6.0\n",
      "flow {i}:  6.0\n",
      "AI: 40\n",
      "AI: 41\n",
      "AI: 42\n",
      "MD: 43\n",
      "flow {i}:  6.0\n",
      "flow {i}:  6.0\n",
      "AI: 44\n",
      "AI: 45\n",
      "AI: 46\n",
      "MD: 47\n",
      "flow {i}:  6.0\n",
      "flow {i}:  6.0\n",
      "AI: 48\n",
      "AI: 49\n",
      "AI: 50\n",
      "MD: 51\n",
      "flow {i}:  6.0\n",
      "flow {i}:  6.0\n",
      "AI: 52\n",
      "AI: 53\n",
      "AI: 54\n",
      "MD: 55\n",
      "flow {i}:  6.0\n",
      "flow {i}:  6.0\n",
      "AI: 56\n",
      "AI: 57\n",
      "AI: 58\n",
      "MD: 59\n",
      "flow {i}:  6.0\n",
      "flow {i}:  6.0\n",
      "AI: 60\n",
      "AI: 61\n",
      "AI: 62\n",
      "MD: 63\n",
      "flow {i}:  6.0\n",
      "flow {i}:  6.0\n",
      "AI: 64\n",
      "AI: 65\n",
      "AI: 66\n",
      "MD: 67\n",
      "flow {i}:  6.0\n",
      "flow {i}:  6.0\n",
      "AI: 68\n",
      "AI: 69\n",
      "AI: 70\n",
      "MD: 71\n",
      "flow {i}:  6.0\n",
      "flow {i}:  6.0\n",
      "AI: 72\n",
      "AI: 73\n",
      "AI: 74\n",
      "MD: 75\n",
      "flow {i}:  6.0\n",
      "flow {i}:  6.0\n",
      "AI: 76\n",
      "AI: 77\n",
      "AI: 78\n",
      "MD: 79\n",
      "flow {i}:  6.0\n",
      "flow {i}:  6.0\n",
      "AI: 80\n",
      "AI: 81\n",
      "AI: 82\n",
      "MD: 83\n",
      "flow {i}:  6.0\n",
      "flow {i}:  6.0\n",
      "AI: 84\n",
      "AI: 85\n",
      "AI: 86\n",
      "MD: 87\n",
      "flow {i}:  6.0\n",
      "flow {i}:  6.0\n",
      "AI: 88\n",
      "AI: 89\n",
      "AI: 90\n",
      "MD: 91\n",
      "flow {i}:  6.0\n",
      "flow {i}:  6.0\n",
      "AI: 92\n",
      "AI: 93\n",
      "AI: 94\n",
      "MD: 95\n",
      "flow {i}:  6.0\n",
      "flow {i}:  6.0\n",
      "AI: 96\n",
      "AI: 97\n",
      "AI: 98\n",
      "MD: 99\n",
      "flow {i}:  6.0\n",
      "flow {i}:  6.0\n",
      "AI: 100\n",
      "{'Flow 0': [4.0, 5.0, 6.0, 3.0, 4.0, 5.0, 6.0, 3.0, 4.0, 5.0, 6.0, 3.0, 4.0, 5.0, 6.0, 3.0, 4.0, 5.0, 6.0, 3.0, 4.0, 5.0, 6.0, 3.0, 4.0, 5.0, 6.0, 3.0, 4.0, 5.0, 6.0, 3.0, 4.0, 5.0, 6.0, 3.0, 4.0, 5.0, 6.0, 3.0, 4.0, 5.0, 6.0, 3.0, 4.0, 5.0, 6.0, 3.0, 4.0, 5.0, 6.0, 3.0, 4.0, 5.0, 6.0, 3.0, 4.0, 5.0, 6.0, 3.0, 4.0, 5.0, 6.0, 3.0, 4.0, 5.0, 6.0, 3.0, 4.0, 5.0, 6.0, 3.0, 4.0, 5.0, 6.0, 3.0, 4.0, 5.0, 6.0, 3.0, 4.0, 5.0, 6.0, 3.0, 4.0, 5.0, 6.0, 3.0, 4.0, 5.0, 6.0, 3.0, 4.0, 5.0, 6.0, 3.0, 4.0, 5.0, 6.0, 3.0, 4.0], 'Flow 1': [4.0, 5.0, 6.0, 3.0, 4.0, 5.0, 6.0, 3.0, 4.0, 5.0, 6.0, 3.0, 4.0, 5.0, 6.0, 3.0, 4.0, 5.0, 6.0, 3.0, 4.0, 5.0, 6.0, 3.0, 4.0, 5.0, 6.0, 3.0, 4.0, 5.0, 6.0, 3.0, 4.0, 5.0, 6.0, 3.0, 4.0, 5.0, 6.0, 3.0, 4.0, 5.0, 6.0, 3.0, 4.0, 5.0, 6.0, 3.0, 4.0, 5.0, 6.0, 3.0, 4.0, 5.0, 6.0, 3.0, 4.0, 5.0, 6.0, 3.0, 4.0, 5.0, 6.0, 3.0, 4.0, 5.0, 6.0, 3.0, 4.0, 5.0, 6.0, 3.0, 4.0, 5.0, 6.0, 3.0, 4.0, 5.0, 6.0, 3.0, 4.0, 5.0, 6.0, 3.0, 4.0, 5.0, 6.0, 3.0, 4.0, 5.0, 6.0, 3.0, 4.0, 5.0, 6.0, 3.0, 4.0, 5.0, 6.0, 3.0, 4.0]}\n"
     ]
    }
   ],
   "source": [
    "e1 = tuningAIMD(initial_cwnd=4.0)\n",
    "e1.run_simulation(100,10)"
   ]
  },
  {
   "cell_type": "code",
   "execution_count": 76,
   "metadata": {},
   "outputs": [
    {
     "data": {
      "image/png": "[encoded data removed]",
      "text/plain": [
       "<Figure size 640x480 with 1 Axes>"
      ]
     },
     "metadata": {},
     "output_type": "display_data"
    }
   ],
   "source": [
    "# plot the values (2 flows)\n",
    "plt.plot(e1.cwnd['Flow 0'], e1.cwnd['Flow 0'])\n",
    "# plt.xlabel('User 1\\'s Allocation, X1')\n",
    "# plt.ylabel('User 2\\'s Allocation, X2')\n",
    "# plt.title('AIMD Algorithm Simulation')\n",
    "\n",
    "# C = 10\n",
    "# ITERATESMAX= 100\n",
    "# fairness_line = np.linspace(0, C, ITERATESMAX)  # Fairness line\n",
    "# plt.plot(fairness_line, fairness_line, '--', label='Fairness Line')\n",
    "\n",
    "# capacity_line_x = np.linspace(C, 0)         # Capacity line x values\n",
    "# capacity_line_y = np.linspace(0, C)         # Capacity line y values\n",
    "# plt.plot(capacity_line_x, capacity_line_y,'-', label='Efficiency Line')\n",
    "\n",
    "# plt.xlim(0, C)\n",
    "# plt.ylim(0, C)\n",
    "plt.show()"
   ]
  },
  {
   "cell_type": "code",
   "execution_count": 48,
   "metadata": {},
   "outputs": [
    {
     "data": {
      "text/plain": [
       "{'Flow 0': [1], 'Flow 1': [1], 'Flow 2': [1], 'Flow 3': [1], 'Flow 4': [1]}"
      ]
     },
     "execution_count": 48,
     "metadata": {},
     "output_type": "execute_result"
    }
   ],
   "source": [
    "window_sizes = {f'Flow {i}': [1] for i in range(5)}\n",
    "window_sizes"
   ]
  },
  {
   "cell_type": "code",
   "execution_count": 22,
   "metadata": {},
   "outputs": [
    {
     "data": {
      "text/plain": [
       "5"
      ]
     },
     "execution_count": 22,
     "metadata": {},
     "output_type": "execute_result"
    }
   ],
   "source": [
    "s = sum(window_sizes[item][0] for item in window_sizes)\n",
    "s"
   ]
  },
  {
   "cell_type": "code",
   "execution_count": 46,
   "metadata": {},
   "outputs": [
    {
     "data": {
      "text/plain": [
       "{'Flow 0': [1, 3],\n",
       " 'Flow 1': [1, 3],\n",
       " 'Flow 2': [1, 3],\n",
       " 'Flow 3': [1, 3],\n",
       " 'Flow 4': [1, 3]}"
      ]
     },
     "execution_count": 46,
     "metadata": {},
     "output_type": "execute_result"
    }
   ],
   "source": [
    "for values in window_sizes.values():\n",
    "    # print(values[0])\n",
    "    new_cwnd = values[-1] + 2\n",
    "    values.append(new_cwnd)\n",
    "\n",
    "window_sizes"
   ]
  },
  {
   "cell_type": "code",
   "execution_count": null,
   "metadata": {},
   "outputs": [],
   "source": []
  }
 ],
 "metadata": {
  "kernelspec": {
   "display_name": ".venv",
   "language": "python",
   "name": "python3"
  },
  "language_info": {
   "codemirror_mode": {
    "name": "ipython",
    "version": 3
   },
   "file_extension": ".py",
   "mimetype": "text/x-python",
   "name": "python",
   "nbconvert_exporter": "python",
   "pygments_lexer": "ipython3",
   "version": "3.8.5"
  }
 },
 "nbformat": 4,
 "nbformat_minor": 2
}
